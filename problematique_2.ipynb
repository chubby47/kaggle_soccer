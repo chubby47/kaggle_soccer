{
 "metadata": {
  "kernelspec": {
   "display_name": "Python 3",
   "language": "python",
   "name": "python3"
  },
  "language_info": {
   "codemirror_mode": {
    "name": "ipython",
    "version": 3
   },
   "file_extension": ".py",
   "mimetype": "text/x-python",
   "name": "python",
   "nbconvert_exporter": "python",
   "pygments_lexer": "ipython3",
   "version": "3.6.3"
  },
  "name": "",
  "signature": "sha256:3341a548f14dd742e8bdf810b558ed58f8f9f675960bc40cada8b667dc3fbbfb"
 },
 "nbformat": 3,
 "nbformat_minor": 0,
 "worksheets": [
  {
   "cells": [
    {
     "cell_type": "heading",
     "level": 1,
     "metadata": {},
     "source": [
      "Pr\u00e9dire la victoire d'une \u00e9quipe"
     ]
    },
    {
     "cell_type": "markdown",
     "metadata": {},
     "source": [
      "Ismael Bonneau et Issam Benamara\n",
      "\n",
      "donn\u00e9es: https://www.kaggle.com/hugomathien/soccer\n",
      "\n",
      "merci \u00e0 : http://ml-cheatsheet.readthedocs.io/en/latest/nn_concepts.html\n",
      "http://www-prima.inrialpes.fr/jlc/Courses/2010/ENSI3.PRML/ENSI3.PRLM.S10.pdf"
     ]
    },
    {
     "cell_type": "heading",
     "level": 2,
     "metadata": {},
     "source": [
      "Description du probl\u00e8me"
     ]
    },
    {
     "cell_type": "markdown",
     "metadata": {},
     "source": [
      "Le football est un sport collectif opposant deux \u00e9quipes de onze joueurs dans un stade. Anim\u00e9 par plusieurs championnats et coupes, \u00e9quipes nationales et clubs r\u00e9gionaux s'affrontent pour acc\u00e9der aux titres. Ces matches rapportent parfois des millions d'euros et g\u00e9n\u00e8rent \u00e9norm\u00e9ment de revenus li\u00e9s aux paris. Avant chaque matches, les sites de paris \u00e9tablissent une \"cote\" pour le match qui donne une \"mesure de confiance\" du r\u00e9sultat du match, soit victoire de l'\u00e9quipe \u00e0 domicile, victoire des visiteurs ou match nul. Chaque site de pari \u00e9tablit donc 3 cotes par match, et utilise ces cotes comme facteur multiplicatif pour d\u00e9terminre le gain des joueurs ayant pari\u00e9.\n",
      "\n",
      "Nous nous demandons s'il est possible de pr\u00e9dire le r\u00e9sultat futur d'un match \u00e0 partir des cotes des sites de pari pour ce match, autrement dit, si les cotes apportent suffisement d'information pour pouvoir pr\u00e9dire le r\u00e9sultat d'un match?"
     ]
    },
    {
     "cell_type": "heading",
     "level": 2,
     "metadata": {},
     "source": [
      "Mod\u00e8le"
     ]
    },
    {
     "cell_type": "markdown",
     "metadata": {},
     "source": [
      "Cette probl\u00e9matique est donc un probl\u00e8me de classification binaire.\n",
      "\n",
      "On d\u00e9finit deux classes, +1 et -1, +1 correspondant \u00e0 une victoire de l'\u00e9quipe jouant \u00e0 domicile et -1 correspondant \u00e0 une victoire de l'\u00e9quipe jouant \u00e0 l'ext\u00e9rieur.\n",
      "\n",
      "Pour r\u00e9pondre \u00e0 ce probl\u00e8me, nous allons utiliser un algorithme tr\u00e8s simple de classification binaire, le perceptron. Il s'agit d'un algorithme pouvant classifier des donn\u00e9es lin\u00e9airement s\u00e9parables. le perceptron fonctionne comme suit : il prend en entr\u00e9e un vecteur de donn\u00e9es (un exemple), effectue une combinaison lin\u00e9aire de ce vecteur avec un vecteur de \"poids\", qu'il passe ensuite \u00e0 une fonction d'activation. Le r\u00e9sultat de cette fonction d'activation est une pr\u00e9diction, ici -1 ou +1, correspondant \u00e0 la classe dans laquelle il range cet exemple.\n",
      "\n",
      "Le perceptron fonctionne en 2 phases : la phase d'apprentissage puis la phase de pr\u00e9diction. Durant la phase d'apprentissage, on it\u00e8re sur les donn\u00e9es fournies en entr\u00e9e afin de calculer un \"co\u00fbt\" (une mesure de l'erreur de pr\u00e9diction du perceptron) puis d'optimiser cette mesure d'erreur en modifiant le vecteur de poids du perceptron afin de minimiser le co\u00fbt (la mesure d'erreur). Afin de minimiser cette erreur, on utilise un algorithme, dit de descente de gradient, qui minimise la fonction d'erreur en utilisant son gradient. Les poids sont mis \u00e0 jour en prenant en compte un param\u00e8tre, le taux d'apprentissage (learning rate), qui a un impact sur la convergence de l'algorithme de descente de gradient.\n",
      "\n",
      "Plusieurs \u00e9l\u00e9ments sont importants : la fonction d'erreur, le learning rate, le nombre d'iterations de la phase d'apprentissage, la phase d'initialisation des poids, et l'algorithme d'optimisation des poids.\n",
      "\n",
      "Le perceptron pr\u00e9sente plusieurs avantages : entre autres la simplicit\u00e9 de mise en oeuvre et la rapidit\u00e9 d'\u00e9x\u00e9cution\n",
      "Il est en revanche sensible au bruit et ne peut marcher que sur des donn\u00e9es lin\u00e9airement s\u00e9parables, ce qui n'est pas forc\u00e9ment notre cas.\n",
      "\n",
      "Sur des donn\u00e9es non lin\u00e9airement s\u00e9parables, une version modifi\u00e9e du perceptron existe, il s'agit du kernel perceptron : \u00e9galement tr\u00e8s rapide, il fonctionne en projetant les donn\u00e9es d'entr\u00e9e dans un espace de dimension sup\u00e9rieure dans lequel elles seront s\u00e9parables. Cette projection s'effectue avec une fonction dite \"noyau\". Il existe plusieurs types de noyaux, entre autres polynomial, et gaussien.\n",
      "\n",
      "Nous testerons donc les deux versions, perceptron classique et kernel perceptron pour notre probl\u00e8me de classification.\n",
      "\n",
      "Nous rechercherons les valeurs optimales des hyper-param\u00e8tres (la fonction d'erreur, le learning rate, le nombre d'iterations) afin de d\u00e9terminer un meilleur classificateur pour notre probl\u00e8me. Nous testerons \u00e9galement plusieurs fonctions d'activation."
     ]
    },
    {
     "cell_type": "heading",
     "level": 3,
     "metadata": {},
     "source": [
      "Donn\u00e9es"
     ]
    },
    {
     "cell_type": "markdown",
     "metadata": {},
     "source": [
      "Parmi les multiples informations et donn\u00e9es disponibles sur la base de donn\u00e9es utilis\u00e9e, la reponse \u00e0 la question pos\u00e9e n'utiliseras que les 3 cotes (domicile, nul, ext\u00e9rieur) de 30 sites de pari, citons entre autres:\n",
      " - Bet365 https://www.bet365.com/?&cb=10581208144#/HO/\n",
      " - bet&win https://sports.bwin.com/fr/sports\n",
      " - gamebookers https://www.bwin.fr/?zoneID=ex10116\n",
      " - ... et bien d'autres\n",
      " \n",
      "Ces attributs sont ceux de 65907 matches diff\u00e9rents car nous ne comptons pas les matches nuls, nous nous int\u00e9resserons seulement aux victoires.\n",
      "\n",
      "Il s'agit de variables quantitatives, r\u00e9elles. Nous les normaliserons en les ramenant \u00e0 une loi centr\u00e9e-r\u00e9duite afin d'acc\u00e9l\u00e9rer l'apprentissage.\n",
      "\n",
      "Ce jeu de donn\u00e9es ne contient pas de donn\u00e9es manquantes. "
     ]
    },
    {
     "cell_type": "heading",
     "level": 2,
     "metadata": {},
     "source": [
      "Code"
     ]
    },
    {
     "cell_type": "code",
     "collapsed": false,
     "input": [
      "import matplotlib.pyplot as plt\n",
      "import pandas as pd\n",
      "import numpy as np\n",
      "import sqlite3\n",
      "from sklearn.model_selection import train_test_split\n",
      "from sklearn.metrics import log_loss\n",
      "from sklearn.metrics import mean_squared_error\n",
      "from sklearn.preprocessing import scale\n",
      "%matplotlib inline"
     ],
     "language": "python",
     "metadata": {},
     "outputs": [
      {
       "output_type": "stream",
       "stream": "stderr",
       "text": [
        "/usr/local/lib/python2.7/dist-packages/pandas-0.20.2-py2.7-linux-x86_64.egg/pandas/core/computation/__init__.py:18: UserWarning: The installed version of numexpr 2.4.3 is not supported in pandas and will be not be used\n",
        "The minimum supported version is 2.4.6\n",
        "\n",
        "  ver=ver, min_ver=_MIN_NUMEXPR_VERSION), UserWarning)\n"
       ]
      }
     ],
     "prompt_number": 1
    },
    {
     "cell_type": "code",
     "collapsed": false,
     "input": [
      "def normaliser(matrix):\n",
      "    \"\"\"\n",
      "    normalise une matrice d'exemples de taille (inputdimension, m).\n",
      "    centre et r\u00e9duit chaque dimension.\n",
      "    retourne la matrice normalis\u00e9e.\n",
      "    \"\"\"\n",
      "    #centrer r\u00e9duire la matrice \"en place\"\n",
      "    return scale(matrix, axis=1, copy=False)"
     ],
     "language": "python",
     "metadata": {},
     "outputs": [],
     "prompt_number": 2
    },
    {
     "cell_type": "code",
     "collapsed": false,
     "input": [
      "#fonctions kernel servant pour le kernel perceptron\n",
      "#linear, polynomial, gaussian\n",
      "#renvoient une matrice de taille (1,1)\n",
      "\n",
      "def linear_kernel(x1, x2):\n",
      "    return np.dot(x1, x2)\n",
      "\n",
      "def polynomial_kernel(x, y, deg=2):\n",
      "    return (1 + np.dot(x, y)) ** deg\n",
      "\n",
      "def gaussian_kernel(x, y, sigma=5.0):\n",
      "    return np.exp(-np.linalg.norm(x-y, keepdims=True)**2 / (2 * (sigma ** 2)))\n",
      "\n",
      "#fonction sigmoid (activation du perceptron)\n",
      "\n",
      "def sigmoid(x):\n",
      "    \"\"\"\n",
      "    Calcule sigmoid(x)\n",
      "    \"\"\"\n",
      "    return 1.0 / (1+np.exp(-x))\n",
      "\n",
      "#pour la fonction tanh : impl\u00e9mentation de numpy"
     ],
     "language": "python",
     "metadata": {},
     "outputs": [],
     "prompt_number": 3
    },
    {
     "cell_type": "code",
     "collapsed": false,
     "input": [
      "class simplePerceptron:\n",
      "    \"\"\"\n",
      "    classe impl\u00e9mentant le perceptron classique,\n",
      "    fonction d'activation : sigmoid\n",
      "    optimisation : descente de gradient.\n",
      "    erreur : cross entropy loss\n",
      "    \"\"\"\n",
      "    \n",
      "    def __init__(self, n):\n",
      "        \"\"\"\n",
      "        cr\u00e9e un perceptron \u00e0 n entr\u00e9es et\n",
      "        initialise w et b\n",
      "        \"\"\"\n",
      "        self.inputdim = n\n",
      "        self.w = np.random.randn(n, 1) * 0.01\n",
      "        self.b = 0\n",
      "\n",
      "    def propagate(self, X, Y, learning_rate):\n",
      "        \"\"\"\n",
      "        forward propagation de la matrice X\n",
      "        X contient m exemples qui sont propag\u00e9s en une seule fois.\n",
      "        retourne le cost (moyenne des m erreurs)\n",
      "\n",
      "        utilise la fonction \"cross entropy loss\"\n",
      "        \"\"\"\n",
      "    \n",
      "        m = X.shape[1]\n",
      "        #calcul de la pr\u00e9diction\n",
      "        A = sigmoid(np.dot(self.w.T, X) + self.b)\n",
      "        #calcul de l'erreur\n",
      "        cost = (1.0/m)*log_loss(Y, A, normalize=False)\n",
      "        \n",
      "        dw = (1.0/m)*np.dot(X, (A - Y).T)\n",
      "        db = (1.0/m)*np.sum(A - Y)\n",
      "        \n",
      "        self.w -= learning_rate * dw\n",
      "        self.b -= learning_rate * db\n",
      "\n",
      "        #cost = np.squeeze(cost)\n",
      "\n",
      "        return cost\n",
      "    \n",
      "\n",
      "    def optimise(self, X, Y, nbiterations=2000, learning_rate=0.01, verbose=False):\n",
      "        \"\"\"\n",
      "        optimisation de w et b pour m exemples en m\u00eame temps.\n",
      "        \"\"\"\n",
      "\n",
      "        costs = []\n",
      "\n",
      "        for i in range(nbiterations):\n",
      "            \n",
      "            #forward & backward propagation\n",
      "            cost = self.propagate(X, Y, learning_rate)\n",
      "\n",
      "            if i % 100 == 0:\n",
      "                costs.append(cost)\n",
      "                if verbose:\n",
      "                    print(\"Cost a l'iteration \"+str(i)+\": \"+str(cost))\n",
      "\n",
      "        return costs\n",
      "\n",
      "    \n",
      "    \n",
      "    def predict(self, X):\n",
      "        \"\"\"\n",
      "        prediction sur un ensemble de m exemples\n",
      "        renvoie 0 ou 1\n",
      "        \"\"\"\n",
      "\n",
      "        m = X.shape[1]\n",
      "        Y_prediction = np.zeros((1,m))\n",
      "        w = self.w.reshape(X.shape[0], 1)\n",
      "\n",
      "        A = sigmoid(np.dot(w.T, X) + self.b)\n",
      "\n",
      "        for i in range(A.shape[1]):\n",
      "            Y_prediction = np.where(A>0.5, 1, -1)\n",
      "\n",
      "        return Y_prediction\n",
      "\n",
      "\n",
      "    def train(self, X_train, Y_train, X_test, Y_test, nbiterations=2000, learning_rate=0.001, print_graph=True):\n",
      "        \"\"\"\n",
      "        entraine le perceptron sur X_train pendant nbiterations.\n",
      "        affiche une courbe de l'evolution de la fonction cost au fil du training.\n",
      "        \"\"\"\n",
      "        m = X_train.shape[1]\n",
      "    \n",
      "        costs = self.optimise(X_train, Y_train, nbiterations, learning_rate, verbose=False)\n",
      "    \n",
      "        # calculer l'accuracy test / train\n",
      "        Y_prediction_test = self.predict(X_test)\n",
      "        Y_prediction_train = self.predict(X_train)\n",
      "        \n",
      "        train_accuracy = 100 - (1.0/m)*100*np.sum(Y_prediction_train != Y_train)\n",
      "        test_accuracy = 100 - (1.0/m)*100*np.sum(Y_prediction_test != Y_test)\n",
      "        \n",
      "        if print_graph:\n",
      "            print(\"train accuracy: {} %\".format(train_accuracy))\n",
      "            print(\"test accuracy: {} %\".format(test_accuracy))\n",
      "            x = np.arange(len(costs)) * 100\n",
      "            plt.title(\"evolution du cout en fonction du nombre d'iterations\")\n",
      "            plt.xlabel(\"iterations\")\n",
      "            plt.ylabel(\"cost\")\n",
      "            plt.plot(x, costs)\n",
      "            plt.show()\n",
      "    \n",
      "        return costs, test_accuracy, train_accuracy"
     ],
     "language": "python",
     "metadata": {},
     "outputs": [],
     "prompt_number": 5
    },
    {
     "cell_type": "code",
     "collapsed": false,
     "input": [
      "class KernelPerceptron:\n",
      "    \"\"\"\n",
      "    implemente le kernel perceptron (utilise le kernel trick)\n",
      "    3 kernels dispo : polynomial, gaussien, lin\u00e9aire\n",
      "    \"\"\"\n",
      "    \n",
      "    def __init__(self, n, kernel=\"polynomial\", deg=2, sigma=0.5):\n",
      "        \"\"\"\n",
      "        cr\u00e9e un kernel perceptron \u00e0 n entr\u00e9es et\n",
      "        initialise w et b\n",
      "        \"\"\"\n",
      "        \n",
      "        self.kernel = kernel\n",
      "        self.inputdim = n\n",
      "        self.w = np.random.randn(n, 1) * 0.01\n",
      "        self.b = 0\n",
      "    \n",
      "    def propagate(self, X, Y, learning_rate, deg=2, sigma=0.5):\n",
      "        \"\"\"\n",
      "        forward propagation de la matrice X\n",
      "        X contient m exemples qui sont propag\u00e9s en une seule fois.\n",
      "        retourne le cost (moyenne des m erreurs)\n",
      "\n",
      "        utilise la fonction \"mean squared error\"\n",
      "        \"\"\"\n",
      "    \n",
      "        m = X.shape[1]\n",
      "        if self.kernel == \"polynomial\":\n",
      "            A = sigmoid(polynomial_kernel(self.w.T, X, deg=deg)+ self.b)\n",
      "        elif self.kernel == \"gaussian\":\n",
      "            A = sigmoid(gaussian_kernel(self.w.T, X, sigma=sigma)+ self.b)\n",
      "        else:\n",
      "            A = sigmoid(linear_kernel(self.w.T, X)+ self.b)\n",
      "\n",
      "        #calcul de l'erreur\n",
      "        cost = (1.0/m)*log_loss(Y, A, normalize=False)\n",
      "        \n",
      "        dw = (1.0/m)*np.dot(X, (A - Y).T)\n",
      "        db = (1.0/m)*np.sum(A - Y)\n",
      "        \n",
      "        self.w -= learning_rate * dw\n",
      "        self.b -= learning_rate * db\n",
      "\n",
      "        #cost = np.squeeze(cost)\n",
      "\n",
      "        return cost\n",
      "    \n",
      "    def optimise(self, X, Y, nbiterations=2000, learning_rate=0.01, sigma=0.5, deg=2, verbose=False):\n",
      "        \"\"\"\n",
      "        optimisation de w et b pour m exemples en m\u00eame temps.\n",
      "        \"\"\"\n",
      "\n",
      "        costs = []\n",
      "\n",
      "        for i in range(nbiterations):\n",
      "            \n",
      "            #forward & backward propagation\n",
      "            cost = self.propagate(X, Y, learning_rate)\n",
      "\n",
      "            if i % 100 == 0:\n",
      "                costs.append(cost)\n",
      "                if verbose:\n",
      "                    print(\"Cost a l'iteration \"+str(i)+\": \"+str(cost))\n",
      "\n",
      "        return costs\n",
      "    \n",
      "    def predict(self, X, sigma=0.5, deg=2):\n",
      "        \"\"\"\n",
      "        prediction sur un ensemble de m exemples\n",
      "        renvoie 0 ou 1\n",
      "        \"\"\"\n",
      "\n",
      "        m = X.shape[1]\n",
      "        Y_prediction = np.zeros((1,m))\n",
      "        w = self.w.reshape(X.shape[0], 1)\n",
      "\n",
      "        if self.kernel == \"polynomial\":\n",
      "            A = sigmoid(polynomial_kernel(self.w.T, X, deg=deg)+ self.b)\n",
      "        elif self.kernel == \"gaussian\":\n",
      "            A = sigmoid(gaussian_kernel(self.w.T, X, sigma=sigma)+ self.b)\n",
      "        else:\n",
      "            A = sigmoid(linear_kernel(self.w.T, X)+ self.b)\n",
      "\n",
      "        for i in range(A.shape[1]):\n",
      "            Y_prediction = np.where(A>0.5, 1, -1)\n",
      "\n",
      "        return Y_prediction\n",
      "    \n",
      "    def train(self, X_train, Y_train, X_test, Y_test, nbiterations=2000,learning_rate=0.001,deg=2,sigma=0.5,print_graph=True):\n",
      "        \"\"\"\n",
      "        entraine le perceptron sur X_train pendant nbiterations.\n",
      "        affiche une courbe de l'evolution de la fonction cost au fil du training.\n",
      "        \"\"\"\n",
      "        m = X_train.shape[1]\n",
      "    \n",
      "        costs = self.optimise(X_train, Y_train, nbiterations, learning_rate, deg=deg, sigma=sigma, verbose=False)\n",
      "    \n",
      "        # calculer l'accuracy test / train\n",
      "        Y_prediction_test = self.predict(X_test)\n",
      "        Y_prediction_train = self.predict(X_train)\n",
      "        \n",
      "        train_accuracy = 100 - (1.0/m)*100*np.sum(Y_prediction_train != Y_train)\n",
      "        test_accuracy = 100 - (1.0/m)*100*np.sum(Y_prediction_test != Y_test)\n",
      "        \n",
      "        if print_graph:\n",
      "            print(\"train accuracy: {} %\".format(train_accuracy))\n",
      "            print(\"test accuracy: {} %\".format(test_accuracy))\n",
      "            x = np.arange(len(costs)) * 100\n",
      "            plt.title(\"evolution du cout en fonction du nombre d'iterations\")\n",
      "            plt.xlabel(\"iterations\")\n",
      "            plt.ylabel(\"cost\")\n",
      "            plt.plot(x, costs)\n",
      "            plt.show()\n",
      "    \n",
      "        return costs, test_accuracy, train_accuracy"
     ],
     "language": "python",
     "metadata": {},
     "outputs": [],
     "prompt_number": 28
    },
    {
     "cell_type": "code",
     "collapsed": false,
     "input": [
      "def get_dataset(df):\n",
      "    \"\"\"\n",
      "    nous prepare nos donn\u00e9es:\n",
      "    renvoie X, Y a partir du dataframe df\n",
      "    X : matrice d'exemples de dimension (input_dim, nbexemples)\n",
      "    Y : matrice de labels de dimension (1, input_dim)\n",
      "    \"\"\"\n",
      "\n",
      "\n",
      "    victoires = df[\"home_team_goal\"] > df[\"away_team_goal\"]\n",
      "    df = df.drop([\"away_team_goal\", \"home_team_goal\"], axis=1)\n",
      "\n",
      "    Y = []\n",
      "    for i in victoires.keys():\n",
      "        if victoires[i]:\n",
      "            Y.append(1)\n",
      "        else:\n",
      "            Y.append(-1)\n",
      "        \n",
      "    Y = np.array([Y]) #on contruit un vecteur de taille (1, nbexemples)\n",
      "    X = matches.as_matrix().T #on construit une matrice de taille (30, nbexemples \n",
      "\n",
      "    print(\"dimensions de X : \"+str(X.shape))\n",
      "    print(\"dimensions de Y : \"+str(Y.shape))\n",
      "\n",
      "    return X, Y\n",
      "\n",
      "\n",
      "#nom de fonction tr\u00e8s original\n",
      "def split_train_test(X, Y, test_size=0.2):\n",
      "    \"\"\"\n",
      "    \n",
      "    \"\"\"\n",
      "    X = normaliser(X)\n",
      "    X_train, X_test, y_train, y_test = train_test_split(X.T, Y.T, test_size=0.2)\n",
      "    X_train = X_train.T \n",
      "    X_test = X_test.T \n",
      "    y_train = y_train.T\n",
      "    y_test = y_test.T\n",
      "    \n",
      "    print(\"X_train shape :\"+str(X_train.shape))\n",
      "    print(\"X_test shape :\"+str(X_test.shape))\n",
      "    \n",
      "    return X_train, X_test, y_train, y_test"
     ],
     "language": "python",
     "metadata": {},
     "outputs": [],
     "prompt_number": 32
    },
    {
     "cell_type": "heading",
     "level": 2,
     "metadata": {},
     "source": [
      "Protocole exp\u00e9rimental"
     ]
    },
    {
     "cell_type": "markdown",
     "metadata": {},
     "source": [
      "Nous allons maintenant pouvoir analyser les donn\u00e9es. commen\u00e7ons par r\u00e9cup\u00e9rer les donn\u00e9es dont nous avons besoin dans la base de donn\u00e9es et les traiter: "
     ]
    },
    {
     "cell_type": "code",
     "collapsed": false,
     "input": [
      "\"\"\"\n",
      "tables : Player_Attributes, Player, Team, Team_Attributes, Match, League, Country\n",
      "\"\"\"\n",
      "\n",
      "path = \"./data/\"  #chemin vers la base de donn\u00e9es\n",
      "database = path + 'soccer.sqlite'\n",
      "\n",
      "conn = sqlite3.connect(database)\n",
      "\n",
      "#on r\u00e9cup\u00e8re les cotes des paris et les r\u00e9sultats des matchs\n",
      "attributes = [\"home_team_goal\", \"away_team_goal\", \"B365H\", \"B365D\", \"B365A\", \"BWH\", \"BWD\", \"BWA\", \"IWH\", \"IWD\",\n",
      "              \"IWA\", \"LBH\", \"LBD\", \"LBA\", \"PSH\", \"PSD\", \"PSA\", \"WHH\", \"WHD\", \"WHA\", \"SJH\", \"SJD\", \"SJA\", \"VCH\",\n",
      "              \"VCD\", \"VCA\", \"GBH\", \"GBD\", \"GBA\", \"BSH\", \"BSD\", \"BSA\"]\n",
      "\n",
      "query = \"SELECT \"\n",
      "query += \", \".join(attributes)\n",
      "query += \" FROM Team_Attributes t1, Team_Attributes t2, Match\"\n",
      "query += \" WHERE t1.team_api_id=home_team_api_id AND t2.team_api_id=away_team_api_id AND home_team_goal != away_team_goal\"\n",
      "\n",
      "matches = pd.read_sql(query, conn)\n",
      "matches = matches.dropna()\n",
      "conn.close()\n",
      "\n",
      "print(\"notre table contient \" + str(matches.shape[0]) + \" enregistrements de matches\")"
     ],
     "language": "python",
     "metadata": {},
     "outputs": [
      {
       "output_type": "stream",
       "stream": "stdout",
       "text": [
        "notre table contient 65907 enregistrements de matches\n"
       ]
      }
     ],
     "prompt_number": 33
    },
    {
     "cell_type": "markdown",
     "metadata": {},
     "source": [
      "Divisons nos donn\u00e9es en jeu de test et jeu d'entrainement selon le ratio 70% train 30% test :"
     ]
    },
    {
     "cell_type": "code",
     "collapsed": false,
     "input": [
      "X, Y = get_dataset(matches)\n",
      "\n",
      "X_train, X_test, y_train, y_test = split_train_test(X, Y, test_size=0.5)"
     ],
     "language": "python",
     "metadata": {},
     "outputs": [
      {
       "output_type": "stream",
       "stream": "stdout",
       "text": [
        "dimensions de X : (32, 65907)\n",
        "dimensions de Y : (1, 65907)\n",
        "X_train shape :(32, 52725)\n",
        "X_test shape :(32, 13182)\n"
       ]
      }
     ],
     "prompt_number": 34
    },
    {
     "cell_type": "heading",
     "level": 3,
     "metadata": {},
     "source": [
      "Simple perceptron"
     ]
    },
    {
     "cell_type": "markdown",
     "metadata": {},
     "source": [
      "Commen\u00e7ons par un simple perceptron, en utilisant la fonction cross entropy cost pour le calcul de l'erreur et l'algorithme de descente de gradient pour optimisateur."
     ]
    },
    {
     "cell_type": "code",
     "collapsed": false,
     "input": [
      "perceptron = simplePerceptron(X_train.shape[0])\n",
      "costs, _,_ = perceptron.train(X_train, y_train, X_test, y_test, nbiterations=500, learning_rate=0.01, print_graph=True)"
     ],
     "language": "python",
     "metadata": {},
     "outputs": [
      {
       "output_type": "stream",
       "stream": "stdout",
       "text": [
        "train accuracy: 81.7695590327 %\n",
        "test accuracy: 95.5277382646 %\n"
       ]
      },
      {
       "metadata": {},
       "output_type": "display_data",
       "png": "[encoded data removed]",
       "text": [
        "<matplotlib.figure.Figure at 0x7faf44bfbf10>"
       ]
      }
     ],
     "prompt_number": 36
    },
    {
     "cell_type": "markdown",
     "metadata": {},
     "source": [
      "on peut remarquer le bon r\u00e9sultat du perceptron sur ce probl\u00e8me : 95% de bonne classification au test, c'est un tr\u00e8s bon d\u00e9but. Testons diff\u00e9rentes valeurs du learning_rate afin de d\u00e9terminer la meilleure valeur pour ce param\u00e8tre et d'essayer de faire mieux:  "
     ]
    },
    {
     "cell_type": "code",
     "collapsed": false,
     "input": [
      "perceptron = simplePerceptron(X_train.shape[0])\n",
      "\n",
      "accuracies = []\n",
      "#valeurs aleatoires pour learning_rate sur une \u00e9chelle logarithmique\n",
      "alpha_range = -4 * np.random.random_sample((20,))\n",
      "alpha_range = np.power([10], alpha_range)\n",
      "alpha_range = np.flip(np.sort(alpha_range), axis=0)\n",
      "\n",
      "max_accuracy = 0.0\n",
      "optimal_alpha = 0.5\n",
      "\n",
      "for alpha in alpha_range:\n",
      "    _, accuracy, _ = perceptron.train(X_train,y_train,X_test,y_test,nbiterations=300,learning_rate=alpha,print_graph=False)\n",
      "    accuracies.append(accuracy)\n",
      "    if accuracy > max_accuracy:\n",
      "        max_accuracy = accuracy \n",
      "        optimal_alpha = alpha\n",
      "\n",
      "print(\"epsilon optimal: \"+str(optimal_alpha)+\" meilleure accuracy: \"+str(max_accuracy))"
     ],
     "language": "python",
     "metadata": {},
     "outputs": [
      {
       "output_type": "stream",
       "stream": "stdout",
       "text": [
        "epsilon optimal: 0.8894048670426885 meilleure accuracy: 82.2152678995\n"
       ]
      }
     ],
     "prompt_number": 106
    },
    {
     "cell_type": "code",
     "collapsed": false,
     "input": [
      "perceptron.train(X_train,y_train,X_test,y_test,nbiterations=1000,learning_rate=0.889404,print_graph=True)"
     ],
     "language": "python",
     "metadata": {},
     "outputs": [
      {
       "output_type": "stream",
       "stream": "stdout",
       "text": [
        "train accuracy: 82.2152678995 %\n",
        "test accuracy: 95.5258416311 %\n"
       ]
      },
      {
       "metadata": {},
       "output_type": "display_data",
       "png": "[encoded data removed]",
       "text": [
        "<matplotlib.figure.Figure at 0x7fb67cad0d10>"
       ]
      },
      {
       "metadata": {},
       "output_type": "pyout",
       "prompt_number": 107,
       "text": [
        "([-5.867215810128155,\n",
        "  -5.845597401863278,\n",
        "  -5.8272205029097845,\n",
        "  -5.810681282234512,\n",
        "  -5.798250840532347,\n",
        "  -5.789881558352355,\n",
        "  -5.780403059933345,\n",
        "  -5.770502090032611,\n",
        "  -5.7618519630264435,\n",
        "  -5.75381892274181],\n",
        " 95.52584163110478,\n",
        " 82.21526789947842)"
       ]
      }
     ],
     "prompt_number": 107
    },
    {
     "cell_type": "heading",
     "level": 3,
     "metadata": {},
     "source": [
      "Kernel Perceptron"
     ]
    },
    {
     "cell_type": "markdown",
     "metadata": {},
     "source": [
      "maintenant utilisons un kernel perceptron, avec pour commencer un noyau polynomial : "
     ]
    },
    {
     "cell_type": "code",
     "collapsed": false,
     "input": [
      "kperceptron = KernelPerceptron(X_train.shape[0], kernel=\"polynomial\", deg=2)\n",
      "costs, _,_ = kperceptron.train(X_train, y_train, X_test, y_test, nbiterations=1000, learning_rate=0.889404, print_graph=True)"
     ],
     "language": "python",
     "metadata": {},
     "outputs": [
      {
       "output_type": "stream",
       "stream": "stdout",
       "text": [
        "train accuracy: 59.6244665718 %\n",
        "test accuracy: 90.0047415837 %\n"
       ]
      },
      {
       "metadata": {},
       "output_type": "display_data",
       "png": "[encoded data removed]",
       "text": [
        "<matplotlib.figure.Figure at 0x7faf44219c50>"
       ]
      }
     ],
     "prompt_number": 38
    },
    {
     "cell_type": "markdown",
     "metadata": {},
     "source": [
      "polyn\u00f4me de degr\u00e9 6:"
     ]
    },
    {
     "cell_type": "code",
     "collapsed": false,
     "input": [
      "kperceptron = KernelPerceptron(X_train.shape[0], kernel=\"polynomial\", deg=6)\n",
      "costs, _,_ = kperceptron.train(X_train, y_train, X_test, y_test, nbiterations=1000, learning_rate=0.889404, print_graph=True)"
     ],
     "language": "python",
     "metadata": {},
     "outputs": [
      {
       "output_type": "stream",
       "stream": "stdout",
       "text": [
        "train accuracy: 59.6244665718 %\n",
        "test accuracy: 90.0047415837 %\n"
       ]
      },
      {
       "metadata": {},
       "output_type": "display_data",
       "png": "[encoded data removed]",
       "text": [
        "<matplotlib.figure.Figure at 0x7faf441ddb50>"
       ]
      }
     ],
     "prompt_number": 37
    },
    {
     "cell_type": "code",
     "collapsed": false,
     "input": [
      "kperceptron = KernelPerceptron(X_train.shape[0], kernel=\"gaussian\", sigma=0.5)\n",
      "costs, _,_ = perceptron.train(X_train, y_train, X_test, y_test, nbiterations=500, learning_rate=0.01)"
     ],
     "language": "python",
     "metadata": {},
     "outputs": [
      {
       "output_type": "stream",
       "stream": "stdout",
       "text": [
        "train accuracy: 82.3973447131 %\n",
        "test accuracy: 95.5144618303 %\n"
       ]
      },
      {
       "metadata": {},
       "output_type": "display_data",
       "png": "[encoded data removed]",
       "text": [
        "<matplotlib.figure.Figure at 0x7fb67cd3d850>"
       ]
      }
     ],
     "prompt_number": 87
    }
   ],
   "metadata": {}
  }
 ]
}