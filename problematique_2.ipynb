{
 "metadata": {
  "kernelspec": {
   "display_name": "Python 3",
   "language": "python",
   "name": "python3"
  },
  "language_info": {
   "codemirror_mode": {
    "name": "ipython",
    "version": 3
   },
   "file_extension": ".py",
   "mimetype": "text/x-python",
   "name": "python",
   "nbconvert_exporter": "python",
   "pygments_lexer": "ipython3",
   "version": "3.6.3"
  },
  "name": "",
  "signature": "sha256:9f9ef9ddf1031dc90bcaf6c9d8759daa386a4827db40cf31b1a9d86282a91a8d"
 },
 "nbformat": 3,
 "nbformat_minor": 0,
 "worksheets": [
  {
   "cells": [
    {
     "cell_type": "heading",
     "level": 1,
     "metadata": {},
     "source": [
      "Pr\u00e9dire la victoire d'une \u00e9quipe"
     ]
    },
    {
     "cell_type": "markdown",
     "metadata": {},
     "source": [
      "Ismael Bonneau et Issam Benamara\n",
      "\n",
      "donn\u00e9es: https://www.kaggle.com/hugomathien/soccer\n",
      "\n",
      "inspiration : http://ml-cheatsheet.readthedocs.io/en/latest/nn_concepts.html"
     ]
    },
    {
     "cell_type": "heading",
     "level": 2,
     "metadata": {},
     "source": [
      "Description du probl\u00e8me"
     ]
    },
    {
     "cell_type": "markdown",
     "metadata": {},
     "source": [
      "Pr\u00e9dire les victoires \u00e0 partir des cotes de paris\n",
      "\n",
      "blablabla\n",
      "blablabla\n",
      "blablabla\n",
      "blablabla\n",
      "blablabla\n",
      "blablabla"
     ]
    },
    {
     "cell_type": "heading",
     "level": 2,
     "metadata": {},
     "source": [
      "Mod\u00e8le"
     ]
    },
    {
     "cell_type": "markdown",
     "metadata": {},
     "source": [
      "comparaison de diff\u00e9rents mod\u00e8les\n",
      "\n",
      "perceptron simple vs kernel perceptron vs r\u00e9seau de neurones \u00e0 un hidden layer\n"
     ]
    },
    {
     "cell_type": "heading",
     "level": 2,
     "metadata": {},
     "source": [
      "Code"
     ]
    },
    {
     "cell_type": "code",
     "collapsed": false,
     "input": [
      "import matplotlib.pyplot as plt\n",
      "import pandas as pd\n",
      "import numpy as np\n",
      "import sqlite3\n",
      "from sklearn.model_selection import train_test_split\n",
      "from sklearn.metrics import mean_squared_error\n",
      "from sklearn.preprocessing import scale\n",
      "%matplotlib inline"
     ],
     "language": "python",
     "metadata": {},
     "outputs": [],
     "prompt_number": 165
    },
    {
     "cell_type": "code",
     "collapsed": false,
     "input": [
      "def normaliser(matrix):\n",
      "    \"\"\"\n",
      "    normalise une matrice d'exemples de taille (inputdimension, m).\n",
      "    centre et r\u00e9duit chaque dimension.\n",
      "    retourne la matrice normalis\u00e9e.\n",
      "    \"\"\"\n",
      "    #centrer r\u00e9duire la matrice \"en place\"\n",
      "    return scale(matrix, axis=1, copy=False)"
     ],
     "language": "python",
     "metadata": {},
     "outputs": [],
     "prompt_number": 167
    },
    {
     "cell_type": "code",
     "collapsed": false,
     "input": [
      "class simplePerceptron:\n",
      "    \"\"\"\n",
      "    classe impl\u00e9mentant le perceptron classique,\n",
      "    avec simoid comme fonction d'activation et descente de gradient.\n",
      "    \"\"\"\n",
      "    \n",
      "    def __init__(self, n):\n",
      "        \"\"\"\n",
      "        cr\u00e9e un perceptron \u00e0 n entr\u00e9es et\n",
      "        initialise w et b\n",
      "        \"\"\"\n",
      "        self.inputdim = n\n",
      "        self.w = np.random.randn(n, 1) * 0.01\n",
      "        self.b = 0\n",
      "    \n",
      "    def sigmoid(self, x):\n",
      "        \"\"\"\n",
      "        Calcule sigmoid(x)\n",
      "        \"\"\"\n",
      "        return 1.0 / (1+np.exp(-x))\n",
      "\n",
      "    def propagate(self, X, Y, learning_rate):\n",
      "        \"\"\"\n",
      "        forward propagation de la matrice X\n",
      "        X contient m exemples qui sont propag\u00e9s en une seule fois.\n",
      "        retourne le cost (moyenne des m erreurs)\n",
      "\n",
      "        utilise la fonction \"mean squared error\"\n",
      "        \"\"\"\n",
      "    \n",
      "        m = X.shape[1]\n",
      "        A = self.sigmoid(np.dot(self.w.T, X) + self.b)\n",
      "\n",
      "        #cost = (-1.0/m)*np.sum(Y*np.log(A) + (1-Y)*np.log(1-A))\n",
      "        cost = mean_squared_error(Y, A)\n",
      "        \n",
      "        dw = (1.0/m)*np.dot(X, (A - Y).T)\n",
      "        db = (1.0/m)*np.sum(A - Y)\n",
      "        \n",
      "        self.w -= learning_rate * dw\n",
      "        self.b -= learning_rate * db\n",
      "\n",
      "        #cost = np.squeeze(cost)\n",
      "\n",
      "        return cost\n",
      "    \n",
      "\n",
      "    def optimise(self, X, Y, nbiterations=2000, learning_rate=0.01, verbose=False):\n",
      "        \"\"\"\n",
      "        optimisation de w et b pour m exemples en m\u00eame temps.\n",
      "        \"\"\"\n",
      "\n",
      "        costs = []\n",
      "\n",
      "        for i in range(nbiterations):\n",
      "            \n",
      "            #forward & backward propagation\n",
      "            cost = self.propagate(X, Y, learning_rate)\n",
      "\n",
      "            if i % 100 == 0:\n",
      "                costs.append(cost)\n",
      "                if verbose:\n",
      "                    print(\"Cost a l'iteration \"+str(i)+\": \"+str(cost))\n",
      "\n",
      "        return costs\n",
      "\n",
      "    \n",
      "    \n",
      "    def predict(self, X):\n",
      "        \"\"\"\n",
      "        prediction sur un ensemble de m exemples\n",
      "        renvoie 0 ou 1\n",
      "        \"\"\"\n",
      "\n",
      "        m = X.shape[1]\n",
      "        Y_prediction = np.zeros((1,m))\n",
      "        w = self.w.reshape(X.shape[0], 1)\n",
      "\n",
      "        A = self.sigmoid(np.dot(w.T, X) + self.b)\n",
      "\n",
      "        for i in range(A.shape[1]):\n",
      "            Y_prediction = np.where(A>0.5, 1, 0)\n",
      "\n",
      "        return Y_prediction\n",
      "\n",
      "\n",
      "    def train(self, X_train, Y_train, X_test, Y_test, nbiterations=2000, learning_rate=0.001):\n",
      "        \"\"\"\n",
      "        entraine le perceptron sur X_train pendant nbiterations.\n",
      "        affiche une courbe de l'evolution de la fonction cost au fil du training.\n",
      "        \"\"\"\n",
      "    \n",
      "        costs = self.optimise(X_train, Y_train, nbiterations, learning_rate, verbose=False)\n",
      "    \n",
      "        # calculer l'accuracy test / train\n",
      "        Y_prediction_test = self.predict(X_test)\n",
      "        Y_prediction_train = self.predict(X_train)\n",
      "    \n",
      "        print(\"train accuracy: {} %\".format(100 - np.mean(np.abs(Y_prediction_train - Y_train)) * 100))\n",
      "        print(\"test accuracy: {} %\".format(100 - np.mean(np.abs(Y_prediction_test - Y_test)) * 100))\n",
      "        \n",
      "        x = np.arange(len(costs)) * 100\n",
      "        plt.title(\"evolution du cout en fonction du nombre d'iterations\")\n",
      "        plt.xlabel(\"iterations\")\n",
      "        plt.ylabel(\"cost\")\n",
      "        plt.plot(x, costs)\n",
      "        plt.show()\n",
      "    \n",
      "        return costs, Y_prediction_test, Y_prediction_train"
     ],
     "language": "python",
     "metadata": {},
     "outputs": [],
     "prompt_number": 161
    },
    {
     "cell_type": "code",
     "collapsed": false,
     "input": [
      "class hiddenLayerPerceptron:\n",
      "    \"\"\"\n",
      "    impl\u00e9mente un r\u00e9seau de neurones \u00e0 un seul hidden layer.\n",
      "    mod\u00e8le : tanh -> sigmoid\n",
      "    \"\"\"\n",
      "    \n",
      "    def __init__(self, inputdimension, hiddendim):\n",
      "        self.inputdimension = inputdimension\n",
      "        self.hiddendim = hiddendim\n",
      "        \n",
      "    def sigmoid(self, x):\n",
      "        \"\"\"\n",
      "        Calcule sigmoid(x)\n",
      "        \"\"\"\n",
      "        return 1.0 / (1+np.exp(-x))\n",
      "        \n",
      "    def cost(self, A2, Y):\n",
      "        \"\"\"\n",
      "        retourne la moyenne de la cross-entropy loss\n",
      "        sur les m exemples contenus dans A\n",
      "        \"\"\"\n",
      "        m = Y.shape[1]\n",
      "        cost = - 1.0/m * np.sum(np.multiply(np.log(A2), Y) + np.multiply(np.log(1 - A2), (1 - Y)))\n",
      "\n",
      "        cost = np.squeeze(cost)    \n",
      "\n",
      "        return cost\n",
      "    \n",
      "    def initialize_parameters(self, X, Y):\n",
      "        \"\"\"\n",
      "\n",
      "        \"\"\"\n",
      "        # w et b du input layer :\n",
      "        w1 = np.random.randn(self.hiddendim, X.shape[0]) * 0.01\n",
      "        b1 = np.zeros((self.hiddendim, 1))\n",
      "\n",
      "        # w et b hiden layer :\n",
      "        w2 = np.random.randn(Y.shape[1], self.hiddendim) * 0.01\n",
      "        b2 = np.zeros((Y.shape[1], 1))\n",
      "\n",
      "        self.parameters = {\"w1\": w1,\"b1\": b1,\"w2\": w2,\"b2\": b2}\n",
      "\n",
      "    def forward_propagation(self, X):\n",
      "        \"\"\"\n",
      "        \n",
      "        \"\"\"\n",
      "\n",
      "        Z1 = np.dot(self.parameters[\"w1\"], X) + self.parameters[\"b1\"]\n",
      "        A1 = np.tanh(Z1) #on utilise la fonction tanh de numpy\n",
      "        Z2 = np.dot(self.parameters[\"w2\"], A1) + self.parameters[\"b2\"]\n",
      "        A2 = self.sigmoid(Z2) #en dernier, on utilise la fonction sigmoid\n",
      "        \n",
      "        return A2, {\"Z1\": Z1,\"A1\": A1,\"Z2\": Z2,\"A2\": A2}\n",
      "    \n",
      "    def backward_propagation(self, cache, X, Y, learning_rate):\n",
      "        \"\"\"\n",
      "\n",
      "        \"\"\"\n",
      "        m = X.shape[1]\n",
      "\n",
      "        w1 = self.parameters[\"w1\"]\n",
      "        b1 = self.parameters[\"b1\"]\n",
      "        w2 = self.parameters[\"w2\"]\n",
      "        b2 = self.parameters[\"b2\"]\n",
      "\n",
      "        A1 = cache[\"A1\"]\n",
      "        A2 = cache[\"A2\"]\n",
      "\n",
      "        dZ2 = A2 - Y\n",
      "        dw2 = 1.0/m * np.dot(dZ2, A1.T)\n",
      "        db2 = 1.0/m * np.sum(dZ2, axis=1, keepdims=True)\n",
      "        dZ1 = np.dot(w2.T, dZ2) * (1 - np.power(A1, 2))\n",
      "        dw1 = 1.0/m * np.dot(dZ1, X.T)\n",
      "        db1 = 1.0/m * np.sum(dZ1, axis=1, keepdims=True)\n",
      "\n",
      "        w1 -= learning_rate * dw1\n",
      "        b1 -= learning_rate * db1\n",
      "        w2 -= learning_rate * dw2\n",
      "        b2 -= learning_rate * db2\n",
      "\n",
      "        self.parameters = {\"w1\": w1,\"b1\": b1,\"w2\": w2,\"b2\": b2}\n",
      "        \n",
      "    \n",
      "    def predict(self, X):\n",
      "        \"\"\"\n",
      "        \n",
      "        \"\"\"\n",
      "\n",
      "        A2, cache = self.forward_propagation(X)\n",
      "        predicts = np.where(A2 >= 0.5, 1, 0)\n",
      "\n",
      "        return predict\n",
      "        \n",
      "        \n",
      "    def train(self, X_train, Y_train, X_test, Y_test, learning_rate=0.01, nbiterations=10000, verbose=False):\n",
      "        \"\"\"\n",
      "        entraine le mod\u00e8le\n",
      "        \"\"\"\n",
      "\n",
      "        self.initialize_parameters(X, Y)\n",
      "        costs = []\n",
      "\n",
      "        for i in range(nbiterations):\n",
      "\n",
      "            A2, cache = self.forward_propagation(X)\n",
      "\n",
      "            cost = self.cost(A2, Y)\n",
      "\n",
      "            self.backward_propagation(cache, X, Y, learning_rate)\n",
      "            \n",
      "            if i % 10 == 0:\n",
      "                costs.append(cost)\n",
      "            # Print the cost every 1000 iterations\n",
      "            if verbose and i % 1000 == 0:\n",
      "                print(\"Cost a l'iteration \"+str(i)+\": \"+str(cost))\n",
      "                \n",
      "        \n",
      "        # calculer l'accuracy test / train\n",
      "        Y_prediction_test = self.predict(X_test)\n",
      "        Y_prediction_train = self.predict(X_train)\n",
      "    \n",
      "        print(\"train accuracy: {} %\".format(100 - np.mean(np.abs(Y_prediction_train - Y_train)) * 100))\n",
      "        print(\"test accuracy: {} %\".format(100 - np.mean(np.abs(Y_prediction_test - Y_test)) * 100))\n",
      "        \n",
      "        return costs\n",
      "    \n",
      "    \n",
      "    "
     ],
     "language": "python",
     "metadata": {},
     "outputs": [],
     "prompt_number": 154
    },
    {
     "cell_type": "heading",
     "level": 2,
     "metadata": {},
     "source": [
      "Protocole exp\u00e9rimental"
     ]
    },
    {
     "cell_type": "markdown",
     "metadata": {},
     "source": [
      "blaaablablablabla"
     ]
    },
    {
     "cell_type": "code",
     "collapsed": false,
     "input": [
      "\"\"\"\n",
      "tables : Player_Attributes, Player, Team, Team_Attributes, Match, League, Country\n",
      "\"\"\"\n",
      "\n",
      "path = \"./data/\"  #chemin vers la base de donn\u00e9es\n",
      "database = path + 'soccer.sqlite'\n",
      "\n",
      "conn = sqlite3.connect(database)\n",
      "\n",
      "#on r\u00e9cup\u00e8re les cotes des paris\n",
      "attributes = [\"home_team_goal\", \"away_team_goal\", \"B365H\", \"B365D\", \"B365A\", \"BWH\", \"BWD\", \"BWA\", \"IWH\", \"IWD\",\n",
      "              \"IWA\", \"LBH\", \"LBD\", \"LBA\", \"PSH\", \"PSD\", \"PSA\", \"WHH\", \"WHD\", \"WHA\", \"SJH\", \"SJD\", \"SJA\", \"VCH\",\n",
      "              \"VCD\", \"VCA\", \"GBH\", \"GBD\", \"GBA\", \"BSH\", \"BSD\", \"BSA\"]\n",
      "\n",
      "query = \"SELECT \"\n",
      "query += \", \".join(attributes)\n",
      "query += \" FROM Team_Attributes t1, Team_Attributes t2, Match\"\n",
      "query += \" WHERE t1.team_api_id=home_team_api_id AND t2.team_api_id=away_team_api_id AND home_team_goal != away_team_goal\"\n",
      "\n",
      "matches = pd.read_sql(query, conn)\n",
      "matches = matches.dropna()\n",
      "conn.close()\n",
      "\n",
      "print(\"notre table contient \" + str(matches.shape[0]) + \" enregistrements d'equipes\")\n",
      "print(matches.shape)"
     ],
     "language": "python",
     "metadata": {},
     "outputs": [
      {
       "output_type": "stream",
       "stream": "stdout",
       "text": [
        "notre table contient 65907 enregistrements d'equipes\n",
        "(65907, 32)\n"
       ]
      }
     ],
     "prompt_number": 159
    },
    {
     "cell_type": "code",
     "collapsed": false,
     "input": [
      "victoires = matches[\"home_team_goal\"] > matches[\"away_team_goal\"]\n",
      "\n",
      "matches = matches.drop([\"away_team_goal\", \"home_team_goal\"], axis=1)\n",
      "\n",
      "Y = []\n",
      "for i in victoires.keys():\n",
      "    if victoires[i]:\n",
      "        Y.append(1)\n",
      "    else:\n",
      "        Y.append(0)\n",
      "        \n",
      "Y = np.array([Y]) #on contruit un vecteur de taille (1, nbexemples)\n",
      "X = matches.as_matrix().T #on construit une matrice de taille (30, nbexemples \n",
      "\n",
      "print(\"dimensions de X : \"+str(X.shape))\n",
      "print(\"dimensions de Y : \"+str(Y.shape))\n",
      "\n",
      "X_train, X_test, y_train, y_test = train_test_split(X.T, Y.T, test_size=0.2)\n",
      "X_train = X_train.T\n",
      "X_test = X_test.T\n",
      "y_train = y_train.T\n",
      "y_test = y_test.T\n",
      "\n",
      "print(\"X_train shape: \"+str(X_train.shape))\n",
      "print(\"X_test shape: \"+str(X_test.shape))\n",
      "print(\"y_train shape: \"+str(y_train.shape))\n",
      "print(\"y_test shape: \"+str(y_test.shape))"
     ],
     "language": "python",
     "metadata": {},
     "outputs": [
      {
       "output_type": "stream",
       "stream": "stdout",
       "text": [
        "dimensions de X : (30, 65907)\n",
        "dimensions de Y : (1, 65907)\n",
        "X_train shape: (30, 52725)\n",
        "X_test shape: (30, 13182)\n",
        "y_train shape: (1, 52725)\n",
        "y_test shape: (1, 13182)\n"
       ]
      }
     ],
     "prompt_number": 160
    },
    {
     "cell_type": "code",
     "collapsed": false,
     "input": [
      "X_train = normaliser(X_train)\n",
      "X_test  = normaliser(X_test)"
     ],
     "language": "python",
     "metadata": {},
     "outputs": [],
     "prompt_number": 175
    },
    {
     "cell_type": "code",
     "collapsed": false,
     "input": [
      "perceptron = simplePerceptron(X_train.shape[0])\n",
      "costs, _,_ = perceptron.train(X_train, y_train, X_test, y_test, nbiterations=3000, learning_rate=0.01)"
     ],
     "language": "python",
     "metadata": {},
     "outputs": [
      {
       "output_type": "stream",
       "stream": "stdout",
       "text": [
        "train accuracy: 69.8302513039 %\n",
        "test accuracy: 69.1473221059 %\n"
       ]
      },
      {
       "metadata": {},
       "output_type": "display_data",
       "png": "[encoded data removed]",
       "text": [
        "<matplotlib.figure.Figure at 0x7f0ccfbcc4d0>"
       ]
      }
     ],
     "prompt_number": 176
    },
    {
     "cell_type": "code",
     "collapsed": false,
     "input": [
      "perceptron2 = simplePerceptron(X_train.shape[0])\n",
      "costs, _,_ = perceptron.train(X_train, y_train, X_test, y_test, nbiterations=3000, learning_rate=0.001)"
     ],
     "language": "python",
     "metadata": {},
     "outputs": [
      {
       "output_type": "stream",
       "stream": "stdout",
       "text": [
        "train accuracy: 69.8302513039 %\n",
        "test accuracy: 69.1473221059 %\n"
       ]
      },
      {
       "metadata": {},
       "output_type": "display_data",
       "png": "[encoded data removed]",
       "text": [
        "<matplotlib.figure.Figure at 0x7f0ccfc2ca10>"
       ]
      }
     ],
     "prompt_number": 177
    },
    {
     "cell_type": "code",
     "collapsed": false,
     "input": [
      "nn = hiddenLayerPerceptron(X_test.shape[0], 4)\n",
      "nn.train(X_test, y_test, X_test, y_test, learning_rate=0.001, nbiterations=1, verbose=True)"
     ],
     "language": "python",
     "metadata": {},
     "outputs": [
      {
       "ename": "MemoryError",
       "evalue": "",
       "output_type": "pyerr",
       "traceback": [
        "\u001b[0;31m---------------------------------------------------------------------------\u001b[0m\n\u001b[0;31mMemoryError\u001b[0m                               Traceback (most recent call last)",
        "\u001b[0;32m<ipython-input-155-ea97f8c1a1f1>\u001b[0m in \u001b[0;36m<module>\u001b[0;34m()\u001b[0m\n\u001b[1;32m      1\u001b[0m \u001b[0mnn\u001b[0m \u001b[0;34m=\u001b[0m \u001b[0mhiddenLayerPerceptron\u001b[0m\u001b[0;34m(\u001b[0m\u001b[0mX_test\u001b[0m\u001b[0;34m.\u001b[0m\u001b[0mshape\u001b[0m\u001b[0;34m[\u001b[0m\u001b[0;36m0\u001b[0m\u001b[0;34m]\u001b[0m\u001b[0;34m,\u001b[0m \u001b[0;36m4\u001b[0m\u001b[0;34m)\u001b[0m\u001b[0;34m\u001b[0m\u001b[0m\n\u001b[0;32m----> 2\u001b[0;31m \u001b[0mnn\u001b[0m\u001b[0;34m.\u001b[0m\u001b[0mtrain\u001b[0m\u001b[0;34m(\u001b[0m\u001b[0mX_test\u001b[0m\u001b[0;34m,\u001b[0m \u001b[0my_test\u001b[0m\u001b[0;34m,\u001b[0m \u001b[0mX_test\u001b[0m\u001b[0;34m,\u001b[0m \u001b[0my_test\u001b[0m\u001b[0;34m,\u001b[0m \u001b[0mlearning_rate\u001b[0m\u001b[0;34m=\u001b[0m\u001b[0;36m0.001\u001b[0m\u001b[0;34m,\u001b[0m \u001b[0mnbiterations\u001b[0m\u001b[0;34m=\u001b[0m\u001b[0;36m1\u001b[0m\u001b[0;34m,\u001b[0m \u001b[0mverbose\u001b[0m\u001b[0;34m=\u001b[0m\u001b[0mTrue\u001b[0m\u001b[0;34m)\u001b[0m\u001b[0;34m\u001b[0m\u001b[0m\n\u001b[0m",
        "\u001b[0;32m<ipython-input-154-b4e12a2766cc>\u001b[0m in \u001b[0;36mtrain\u001b[0;34m(self, X_train, Y_train, X_test, Y_test, learning_rate, nbiterations, verbose)\u001b[0m\n\u001b[1;32m    103\u001b[0m         \u001b[0;32mfor\u001b[0m \u001b[0mi\u001b[0m \u001b[0;32min\u001b[0m \u001b[0mrange\u001b[0m\u001b[0;34m(\u001b[0m\u001b[0mnbiterations\u001b[0m\u001b[0;34m)\u001b[0m\u001b[0;34m:\u001b[0m\u001b[0;34m\u001b[0m\u001b[0m\n\u001b[1;32m    104\u001b[0m \u001b[0;34m\u001b[0m\u001b[0m\n\u001b[0;32m--> 105\u001b[0;31m             \u001b[0mA2\u001b[0m\u001b[0;34m,\u001b[0m \u001b[0mcache\u001b[0m \u001b[0;34m=\u001b[0m \u001b[0mself\u001b[0m\u001b[0;34m.\u001b[0m\u001b[0mforward_propagation\u001b[0m\u001b[0;34m(\u001b[0m\u001b[0mX\u001b[0m\u001b[0;34m)\u001b[0m\u001b[0;34m\u001b[0m\u001b[0m\n\u001b[0m\u001b[1;32m    106\u001b[0m \u001b[0;34m\u001b[0m\u001b[0m\n\u001b[1;32m    107\u001b[0m             \u001b[0mcost\u001b[0m \u001b[0;34m=\u001b[0m \u001b[0mself\u001b[0m\u001b[0;34m.\u001b[0m\u001b[0mcost\u001b[0m\u001b[0;34m(\u001b[0m\u001b[0mA2\u001b[0m\u001b[0;34m,\u001b[0m \u001b[0mY\u001b[0m\u001b[0;34m)\u001b[0m\u001b[0;34m\u001b[0m\u001b[0m\n",
        "\u001b[0;32m<ipython-input-154-b4e12a2766cc>\u001b[0m in \u001b[0;36mforward_propagation\u001b[0;34m(self, X)\u001b[0m\n\u001b[1;32m     48\u001b[0m         \u001b[0mZ1\u001b[0m \u001b[0;34m=\u001b[0m \u001b[0mnp\u001b[0m\u001b[0;34m.\u001b[0m\u001b[0mdot\u001b[0m\u001b[0;34m(\u001b[0m\u001b[0mself\u001b[0m\u001b[0;34m.\u001b[0m\u001b[0mparameters\u001b[0m\u001b[0;34m[\u001b[0m\u001b[0;34m\"w1\"\u001b[0m\u001b[0;34m]\u001b[0m\u001b[0;34m,\u001b[0m \u001b[0mX\u001b[0m\u001b[0;34m)\u001b[0m \u001b[0;34m+\u001b[0m \u001b[0mself\u001b[0m\u001b[0;34m.\u001b[0m\u001b[0mparameters\u001b[0m\u001b[0;34m[\u001b[0m\u001b[0;34m\"b1\"\u001b[0m\u001b[0;34m]\u001b[0m\u001b[0;34m\u001b[0m\u001b[0m\n\u001b[1;32m     49\u001b[0m         \u001b[0mA1\u001b[0m \u001b[0;34m=\u001b[0m \u001b[0mnp\u001b[0m\u001b[0;34m.\u001b[0m\u001b[0mtanh\u001b[0m\u001b[0;34m(\u001b[0m\u001b[0mZ1\u001b[0m\u001b[0;34m)\u001b[0m \u001b[0;31m#on utilise la fonction tanh de numpy\u001b[0m\u001b[0;34m\u001b[0m\u001b[0m\n\u001b[0;32m---> 50\u001b[0;31m         \u001b[0mZ2\u001b[0m \u001b[0;34m=\u001b[0m \u001b[0mnp\u001b[0m\u001b[0;34m.\u001b[0m\u001b[0mdot\u001b[0m\u001b[0;34m(\u001b[0m\u001b[0mself\u001b[0m\u001b[0;34m.\u001b[0m\u001b[0mparameters\u001b[0m\u001b[0;34m[\u001b[0m\u001b[0;34m\"w2\"\u001b[0m\u001b[0;34m]\u001b[0m\u001b[0;34m,\u001b[0m \u001b[0mA1\u001b[0m\u001b[0;34m)\u001b[0m \u001b[0;34m+\u001b[0m \u001b[0mself\u001b[0m\u001b[0;34m.\u001b[0m\u001b[0mparameters\u001b[0m\u001b[0;34m[\u001b[0m\u001b[0;34m\"b2\"\u001b[0m\u001b[0;34m]\u001b[0m\u001b[0;34m\u001b[0m\u001b[0m\n\u001b[0m\u001b[1;32m     51\u001b[0m         \u001b[0mA2\u001b[0m \u001b[0;34m=\u001b[0m \u001b[0mself\u001b[0m\u001b[0;34m.\u001b[0m\u001b[0msigmoid\u001b[0m\u001b[0;34m(\u001b[0m\u001b[0mZ2\u001b[0m\u001b[0;34m)\u001b[0m \u001b[0;31m#en dernier, on utilise la fonction sigmoid\u001b[0m\u001b[0;34m\u001b[0m\u001b[0m\n\u001b[1;32m     52\u001b[0m \u001b[0;34m\u001b[0m\u001b[0m\n",
        "\u001b[0;31mMemoryError\u001b[0m: "
       ]
      }
     ],
     "prompt_number": 155
    }
   ],
   "metadata": {}
  }
 ]
}