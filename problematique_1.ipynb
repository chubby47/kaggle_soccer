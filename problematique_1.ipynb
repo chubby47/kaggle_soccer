{
 "metadata": {
  "name": "",
  "signature": "sha256:554a51a848f263890873145c594280ba007d7bab68d6cda5b0bb60ebf8ab90b3"
 },
 "nbformat": 3,
 "nbformat_minor": 0,
 "worksheets": [
  {
   "cells": [
    {
     "cell_type": "heading",
     "level": 2,
     "metadata": {},
     "source": [
      "Apprentissage non supervis\u00e9 sur des Equipes"
     ]
    },
    {
     "cell_type": "heading",
     "level": 3,
     "metadata": {},
     "source": [
      "d\u00e9terminer des \"profils\" d'\u00e9quipe"
     ]
    },
    {
     "cell_type": "markdown",
     "metadata": {},
     "source": [
      "Ismael Bonneau et Issam Benamara"
     ]
    },
    {
     "cell_type": "markdown",
     "metadata": {},
     "source": [
      "#### 1 - Description du probl\u00e8me"
     ]
    },
    {
     "cell_type": "markdown",
     "metadata": {},
     "source": [
      "blablabla"
     ]
    },
    {
     "cell_type": "code",
     "collapsed": false,
     "input": [
      "import matplotlib.pyplot as plt\n",
      "import pandas as pd\n",
      "import numpy as np\n",
      "import sqlite3\n",
      "%matplotlib inline"
     ],
     "language": "python",
     "metadata": {},
     "outputs": [
      {
       "output_type": "stream",
       "stream": "stderr",
       "text": [
        "/usr/local/lib/python2.7/dist-packages/pandas-0.20.2-py2.7-linux-x86_64.egg/pandas/core/computation/__init__.py:18: UserWarning: The installed version of numexpr 2.4.3 is not supported in pandas and will be not be used\n",
        "The minimum supported version is 2.4.6\n",
        "\n",
        "  ver=ver, min_ver=_MIN_NUMEXPR_VERSION), UserWarning)\n"
       ]
      }
     ],
     "prompt_number": 1
    },
    {
     "cell_type": "code",
     "collapsed": false,
     "input": [
      "\"\"\"\n",
      "tables : Player_Attributes, Player, Team, Team_Attributes, Match, League, Country\n",
      "\"\"\"\n",
      "from datetime import datetime\n",
      "path = \"./data/\"  #chemin vers la base de donn\u00e9es\n",
      "database = path + 'soccer.sqlite'\n",
      "\n",
      "conn = sqlite3.connect(database)\n",
      "\n",
      "attributes = [\"team_long_name\", \"buildUpPlayDribbling\", \"buildUpPlayPassing\", \"defencePressure\", \"defenceTeamWidth\", \n",
      "              \"defenceAggression\", \"buildUpPlaySpeed\", \"chanceCreationCrossing\", \"chanceCreationShooting\"]\n",
      "\n",
      "query = \"SELECT \"\n",
      "query += \", \".join(attributes)\n",
      "query += \" FROM Team INNER JOIN Team_Attributes on Team.team_api_id=Team_Attributes.team_api_id\"\n",
      "\n",
      "teams = pd.read_sql(query, conn)\n",
      "\n",
      "conn.close()\n",
      "\n",
      "print(\"notre table contient \" + str(teams.shape[0]) + \" enregistrements d'equipes\")"
     ],
     "language": "python",
     "metadata": {},
     "outputs": [
      {
       "output_type": "stream",
       "stream": "stdout",
       "text": [
        "notre table contient 1458 enregistrements d'equipes\n"
       ]
      }
     ],
     "prompt_number": 77
    },
    {
     "cell_type": "markdown",
     "metadata": {},
     "source": [
      "Toutes ces donn\u00e9es pr\u00e9sentent un grand avantage : elles sont toutes des \"scores\" normalis\u00e9s entre 0 et 100, et donc toutes sur la m\u00eame \u00e9chelle, 0 voulant dire \"mauvais\" et 100 \"excellent\". Il n'y a donc a priori pas besoin de les normaliser, sauf peut-\u00eatre pour r\u00e9duire les mesures de distance, dans ce cas une division par 100 suffirait."
     ]
    },
    {
     "cell_type": "markdown",
     "metadata": {},
     "source": [
      "On remarque que certaines colonnes contiennent beaucoup de valeurs manquantes, comme la colonne buildUpPlayDribbling par exemple. Nous choisissons de combler les trous avec une valeur moyenne, soit 50. Certaines valeurs sont cat\u00e9gorielles non num\u00e9riques mais peuvent facilement \u00eatre converties en valeurs num\u00e9riques. "
     ]
    },
    {
     "cell_type": "markdown",
     "metadata": {},
     "source": [
      "Ce dataframe contient des donn\u00e9es manquantes. Etant donn\u00e9 que toutes les donn\u00e9es de ce dataframe (mise \u00e0 part la colonne ChanceCreationPositioningClass) correspondent \u00e0 des ratios, il peut paraitre raisonnable de prendre une valeur moyenne (50) pour remplir les trous.\n",
      "\n",
      "Nous comparerons en fait les deux solutions, remplacer les valeurs par 50 et supprimer les lignes portant des valeurs NaN."
     ]
    },
    {
     "cell_type": "code",
     "collapsed": false,
     "input": [
      "teams = teams.fillna(value=50)\n",
      "print(\"valeurs manquantes remplac\u00e9es par la moyenne\")"
     ],
     "language": "python",
     "metadata": {},
     "outputs": [
      {
       "output_type": "stream",
       "stream": "stdout",
       "text": [
        "valeurs manquantes remplac\u00e9es par la moyenne\n"
       ]
      }
     ],
     "prompt_number": 78
    },
    {
     "cell_type": "markdown",
     "metadata": {},
     "source": [
      "Certaines \u00e9quipes sont pr\u00e9sentes en plusieurs exemplaires dans le dataset, cela correspond \u00e0 des r\u00e9sultats enregistr\u00e9s \u00e0 des dates diff\u00e9rentes. Pour chaque \u00e9quipe, nous prenons la moyenne de ses lignes."
     ]
    },
    {
     "cell_type": "code",
     "collapsed": false,
     "input": [
      "print(\"il y a \"+str(len(np.unique(teams[\"team_long_name\"])))+\" equipes au total sur \"+str(teams.shape[0])+\" enregistrements\")\n",
      "teams = teams.groupby(by=[\"team_long_name\"], sort=False).mean()\n",
      "teams.reset_index(level=0, inplace=True)"
     ],
     "language": "python",
     "metadata": {},
     "outputs": [
      {
       "output_type": "stream",
       "stream": "stdout",
       "text": [
        "il y a 285 equipes au total sur 1458 enregistrements\n"
       ]
      }
     ],
     "prompt_number": 79
    },
    {
     "cell_type": "markdown",
     "metadata": {},
     "source": [
      "on enl\u00e8ve maintenant la colonne \"team_long_name\", elle servira dans la suite."
     ]
    },
    {
     "cell_type": "code",
     "collapsed": false,
     "input": [
      "teams = teams.drop(teams.columns[0], axis=1)"
     ],
     "language": "python",
     "metadata": {},
     "outputs": [],
     "prompt_number": 84
    },
    {
     "cell_type": "code",
     "collapsed": false,
     "input": [
      "from sklearn.cluster import KMeans #version scikit-learn\n",
      "from sklearn.decomposition import PCA\n",
      "import kmeans.kmoyennes as km #notre propre version, non optimis\u00e9e<"
     ],
     "language": "python",
     "metadata": {},
     "outputs": [],
     "prompt_number": 91
    },
    {
     "cell_type": "code",
     "collapsed": false,
     "input": [
      "DataFnorm = km.normalisation(teams)\n",
      "les_centres, l_affectation = km.kmoyennes(3, DataFnorm, 0.05, 100) #on commence par une valeur de 3"
     ],
     "language": "python",
     "metadata": {},
     "outputs": [],
     "prompt_number": 87
    },
    {
     "cell_type": "code",
     "collapsed": false,
     "input": [
      "plt.figure(figsize=(15,10))\n",
      "\n",
      "def visualiser(df, centres, affectation):\n",
      "    \"\"\"\n",
      "    Sert \u00e0 visualiser les clusters obtenus,\n",
      "    utilise l'impl\u00e9mentation de l'algorithme PCA de scikit-learn.\n",
      "    \"\"\"\n",
      "    nb_clusters = len(affectation)\n",
      "    pca = PCA(n_components=2).fit(df)\n",
      "    pca_2d = pca.transform(df)\n",
      "\n",
      "    clusters = pca.transform(centres)\n",
      "    colors = ['red','green','blue', 'black', 'grey', 'yellow', 'pink']\n",
      "    col = []\n",
      "    x = []\n",
      "    y = []\n",
      "    \n",
      "    j=0\n",
      "    for row in pca_2d:\n",
      "        x.append(row[0])\n",
      "        y.append(row[1])\n",
      "        for i in range(nb_clusters):\n",
      "            if j in affectation[i]:\n",
      "                col.append(colors[i])\n",
      "        j+=1\n",
      "    plt.scatter(x, y, c=col, s=3, alpha=1)\n",
      "    plt.show()\n",
      "\n",
      "visualiser(DataFnorm, les_centres, l_affectation)"
     ],
     "language": "python",
     "metadata": {},
     "outputs": [
      {
       "metadata": {},
       "output_type": "display_data",
       "png": "[encoded data removed]",
       "text": [
        "<matplotlib.figure.Figure at 0x7f2a84c5ab90>"
       ]
      }
     ],
     "prompt_number": 92
    },
    {
     "cell_type": "markdown",
     "metadata": {},
     "source": [
      "Notre but \u00e9tant de trouver la meilleure s\u00e9paration pour notre dataset, nous allons chercher \u00e0 mesurer la qualit\u00e9 de notre partition pour plusieurs valeurs des hyperparam\u00e8tres epsilon et k, et choisir la meilleure configuration.\n",
      "\n",
      "On utilise pour cela une mesure d'\u00e9valuation de la partition obtenue, selon deux indices : indice de Dunn ou indice de Xie et Beni.\n",
      "\n",
      "Ces deux indices mesurent le rapport de la compacit\u00e9 globale des clusters avec la s\u00e9parabilit\u00e9 des clusters. Une bonne partition s\u00e9pare les parties en les \u00e9loignant le plus possibles les unes des autres. Dans notre cas, la s\u00e9parabilit\u00e9 d'une partition mesure la distance minimale entre deux parties de la partition. ainsi, le rapport compacit\u00e9/s\u00e9parabilit\u00e9 d'une bonne partition tend \u00e0 se rapprocher de 0. "
     ]
    },
    {
     "cell_type": "code",
     "collapsed": false,
     "input": [
      "# Inertie des clusters :\n",
      "def inertie_cluster(cluster):\n",
      "    cen = km.centroide(cluster).iloc[0]\n",
      "    sum = 0\n",
      "    for i in range(len(cluster)):\n",
      "        sum += km.dist_vect(cluster.iloc[i], cen)**2\n",
      "    return sum\n",
      "\n",
      "def inertie_globale(base, dictAffect):\n",
      "    sum = 0\n",
      "    for cluster in dictAffect.values():\n",
      "        sum += inertie_cluster(base.iloc[cluster])\n",
      "    return sum\n",
      "\n",
      "def dist_intracluster(DF):\n",
      "    d = 0\n",
      "    for i in range(len(DF)):\n",
      "        for j in range(len(DF)):\n",
      "            if i == j:\n",
      "                continue\n",
      "            if km.dist_euclidienne_vect(DF.iloc[i], DF.iloc[j]) > d:\n",
      "                d = km.dist_euclidienne_vect(DF.iloc[i], DF.iloc[j])\n",
      "    return d\n",
      "\n",
      "\n",
      "def global_intraclusters(df, affectation):\n",
      "    d = 0\n",
      "    for k in range(0,len(affectation)):\n",
      "        DF = df.iloc[affectation[k]]\n",
      "        tmp = dist_intracluster(DF)\n",
      "        if tmp > d:\n",
      "            d = tmp\n",
      "    return d\n",
      "\n",
      "\n",
      "def sep_clusters(centres):\n",
      "    #mesure de s\u00e9parabilit\u00e9 des clusters\n",
      "    d = 10000000\n",
      "    for i in range(len(centres)):\n",
      "        for j in range(len(centres)):\n",
      "            if i == j:\n",
      "                continue\n",
      "            if km.dist_euclidienne_vect(centres.iloc[i], centres.iloc[j]) < d:\n",
      "                d = km.dist_euclidienne_vect(centres.iloc[i], centres.iloc[j])\n",
      "    return d\n",
      "\n",
      "\n",
      "def evaluation(df, centres, affectation, method=\"Dunn\"):\n",
      "    if method == \"Dunn\":\n",
      "        return global_intraclusters(df, affectation) / sep_clusters(centres)\n",
      "    if method == \"XB\":\n",
      "        return inertie_globale(df, affectation) / sep_clusters(centres)\n"
     ],
     "language": "python",
     "metadata": {},
     "outputs": [],
     "prompt_number": 93
    },
    {
     "cell_type": "code",
     "collapsed": false,
     "input": [
      "import time"
     ],
     "language": "python",
     "metadata": {},
     "outputs": [],
     "prompt_number": 94
    },
    {
     "cell_type": "code",
     "collapsed": false,
     "input": [
      "print(\"avec Dunn: \"+str(evaluation(DataFnorm, les_centres, l_affectation)))"
     ],
     "language": "python",
     "metadata": {},
     "outputs": [
      {
       "output_type": "stream",
       "stream": "stdout",
       "text": [
        "avec Dunn: 4.1371754103941605\n"
       ]
      }
     ],
     "prompt_number": 95
    },
    {
     "cell_type": "markdown",
     "metadata": {},
     "source": [
      "Maintenant que nous avons une m\u00e9thode d'\u00e9valuation num\u00e9rique de la qualit\u00e9 d'une partition, nous pouvons rechercher la meilleure partition."
     ]
    },
    {
     "cell_type": "code",
     "collapsed": false,
     "input": [
      "#on recherche dans un certain intervalle de valeurs pour k\n",
      "#on se restreint \u00e0 l'\u00e9valuation de Dunn pour rendre le temps de calcul plus raisonnable\n",
      "start = time.clock()\n",
      "optimal_epsilon = 0\n",
      "optimal_k = 2\n",
      "min_eval = 1000000\n",
      "\n",
      "#valeurs aleatoires pour epsilon\n",
      "epsilon_range = np.random.random_sample((6,)) / 100\n",
      "#on \u00e9value k de 2 \u00e0 7\n",
      "for k in range(2, 8):\n",
      "    for epsilon in epsilon_range:\n",
      "        les_centres, l_affectation = km.kmoyennes(k, DataFnorm, epsilon, 100)\n",
      "        e = evaluation(DataFnorm, les_centres, l_affectation)\n",
      "        if e < min_eval :\n",
      "            optimal_k = k\n",
      "            optimal_epsilon = epsilon\n",
      "            min_eval = e\n",
      "\n",
      "end = time.clock() - start\n",
      "print(\"k optimal : \"+str(k)+\" epsilon optimal : \"+str(optimal_epsilon))\n",
      "print(\"evaluation minimale \"+str(min_eval))\n",
      "print(\"temps mis: \"+str(end / 60)+\" min\")"
     ],
     "language": "python",
     "metadata": {},
     "outputs": [
      {
       "output_type": "stream",
       "stream": "stdout",
       "text": [
        "k optimal : 7 epsilon optimal : 0.004364668799630229\n",
        "evaluation minimale 3.7974065982525884\n",
        "temps mis: 7.90271441667 min\n"
       ]
      }
     ],
     "prompt_number": 96
    },
    {
     "cell_type": "code",
     "collapsed": false,
     "input": [
      "plt.figure(figsize=(15,10))\n",
      "visualiser(DataFnorm, les_centres, l_affectation)"
     ],
     "language": "python",
     "metadata": {},
     "outputs": [
      {
       "metadata": {},
       "output_type": "display_data",
       "png": "[encoded data removed]",
       "text": [
        "<matplotlib.figure.Figure at 0x7f2a84cfb7d0>"
       ]
      }
     ],
     "prompt_number": 97
    },
    {
     "cell_type": "markdown",
     "metadata": {},
     "source": [
      "On peut remarquer un temps de calcul tr\u00e8s long qui rend impossible ou presque la d\u00e9termination des hyper param\u00e8tres optimaux. Nous nous limiterons donc volontairement \u00e0 quelques valeurs de k et \u00e0 quelques valeurs d'epsilon.\n",
      "\n",
      "choisissons donc 7 clusters, epsilon = 0.01 et fixons le nombre d'it\u00e9rations \u00e0 500"
     ]
    },
    {
     "cell_type": "code",
     "collapsed": false,
     "input": [
      "les_centres, l_affectation = km.kmoyennes(7, DataFnorm, 0.01, 500)"
     ],
     "language": "python",
     "metadata": {},
     "outputs": [],
     "prompt_number": 25
    },
    {
     "cell_type": "code",
     "collapsed": false,
     "input": [
      "conn = sqlite3.connect(database)\n",
      "\n",
      "attributes = [\"team_long_name\", \"buildUpPlayDribbling\", \"buildUpPlayPassing\", \"defencePressure\", \"defenceTeamWidth\",\n",
      "              \"defenceAggression\", \"buildUpPlaySpeed\", \"chanceCreationCrossing\", \"chanceCreationShooting\"]\n",
      "query = \"SELECT \"\n",
      "query += \", \".join(attributes)\n",
      "query += \" FROM Team INNER JOIN Team_Attributes on Team.team_api_id=Team_Attributes.team_api_id\"\n",
      "\n",
      "teams = pd.read_sql(query, conn)\n",
      "teams = teams.fillna(value=50)\n",
      "\n",
      "conn.close()"
     ],
     "language": "python",
     "metadata": {},
     "outputs": [],
     "prompt_number": 101
    },
    {
     "cell_type": "markdown",
     "metadata": {},
     "source": [
      "Nous allons construire 7 dataframes qui contiendront chacun les \u00e9quipes d'un m\u00eame cluster, incluant leurs noms"
     ]
    },
    {
     "cell_type": "code",
     "collapsed": false,
     "input": [
      "teams = teams.fillna(value=50)\n",
      "teams = teams.groupby(by=[\"team_long_name\"], sort=False).mean()\n",
      "teams.reset_index(level=0, inplace=True)"
     ],
     "language": "python",
     "metadata": {},
     "outputs": [],
     "prompt_number": 103
    },
    {
     "cell_type": "code",
     "collapsed": false,
     "input": [
      "clusters = {}\n",
      "\n",
      "for i in l_affectation.keys():\n",
      "    clusters[i] = pd.DataFrame(columns=attributes)\n",
      "    for team_index in l_affectation[i]:\n",
      "        clusters[i] = clusters[i].append(teams.iloc[team_index])\n"
     ],
     "language": "python",
     "metadata": {},
     "outputs": [],
     "prompt_number": 104
    },
    {
     "cell_type": "code",
     "collapsed": false,
     "input": [
      "print(\"cluster 3: \\n\\n\"+str(clusters[2][\"team_long_name\"].head(10))+\"\\n\\n\")\n",
      "print(\"cluster 1: \\n\\n\"+str(clusters[0][\"team_long_name\"].head(10))+\"\\n\\n\")"
     ],
     "language": "python",
     "metadata": {},
     "outputs": [
      {
       "output_type": "stream",
       "stream": "stdout",
       "text": [
        "cluster 3: \n",
        "\n",
        "0              FC Aarau\n",
        "1              Aberdeen\n",
        "3                 Milan\n",
        "18      Atl\u00e9tico Madrid\n",
        "19          FC Augsburg\n",
        "31           SL Benfica\n",
        "34            Blackpool\n",
        "40    Borussia Dortmund\n",
        "46    Stade Brestois 29\n",
        "49             Cagliari\n",
        "Name: team_long_name, dtype: object\n",
        "\n",
        "\n",
        "cluster 1: \n",
        "\n",
        "13               FC Arouca\n",
        "15             Aston Villa\n",
        "20              AJ Auxerre\n",
        "32         Birmingham City\n",
        "38        Bolton Wanderers\n",
        "51            Cardiff City\n",
        "63          Crystal Palace\n",
        "64         SV Darmstadt 98\n",
        "70    Dunfermline Athletic\n",
        "77            RCD Espanyol\n",
        "Name: team_long_name, dtype: object\n",
        "\n",
        "\n"
       ]
      }
     ],
     "prompt_number": 105
    },
    {
     "cell_type": "code",
     "collapsed": false,
     "input": [],
     "language": "python",
     "metadata": {},
     "outputs": []
    }
   ],
   "metadata": {}
  }
 ]
}