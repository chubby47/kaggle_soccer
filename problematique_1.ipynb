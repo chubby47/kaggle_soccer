{
 "metadata": {
  "name": "",
  "signature": "sha256:26c742eacb0ef46285b401b3eaa0d42fdc915da1443a426e9893a181e22c2af4"
 },
 "nbformat": 3,
 "nbformat_minor": 0,
 "worksheets": [
  {
   "cells": [
    {
     "cell_type": "heading",
     "level": 2,
     "metadata": {},
     "source": [
      "Apprentissage non supervis\u00e9 sur des joueurs"
     ]
    },
    {
     "cell_type": "heading",
     "level": 3,
     "metadata": {},
     "source": [
      "d\u00e9terminer le poste d'un joueur en fonction de son profil"
     ]
    },
    {
     "cell_type": "markdown",
     "metadata": {},
     "source": [
      "Ismael Bonneau et Issam Benamara"
     ]
    },
    {
     "cell_type": "markdown",
     "metadata": {},
     "source": [
      "#### 1 - Description du probl\u00e8me"
     ]
    },
    {
     "cell_type": "markdown",
     "metadata": {},
     "source": [
      "blablabla"
     ]
    },
    {
     "cell_type": "code",
     "collapsed": false,
     "input": [
      "import matplotlib.pyplot as plt\n",
      "import pandas as pd\n",
      "import numpy as np\n",
      "import sqlite3\n",
      "%matplotlib inline"
     ],
     "language": "python",
     "metadata": {},
     "outputs": [],
     "prompt_number": 2
    },
    {
     "cell_type": "code",
     "collapsed": false,
     "input": [
      "\"\"\"\n",
      "tables : Player_Attributes, Player, Team, Team_Attributes, Match, League, Country\n",
      "\"\"\"\n",
      "\n",
      "path = \"./data/\"  #chemin vers la base de donn\u00e9es\n",
      "database = path + 'soccer.sqlite'\n",
      "\n",
      "conn = sqlite3.connect(database)\n",
      "\n",
      "query = \"SELECT player_name, potential, height, weight FROM Player_Attributes, Player \" \n",
      "query += \"WHERE Player_Attributes.player_api_id=Player.player_api_id AND potential NOT NULL ORDER BY potential DESC LIMIT 10\"\n",
      "\n",
      "tables = pd.read_sql(query, conn)\n",
      "tables"
     ],
     "language": "python",
     "metadata": {},
     "outputs": [
      {
       "html": [
        "<div style=\"max-width:1500px;overflow:auto;\">\n",
        "<style>\n",
        "    .dataframe thead tr:only-child th {\n",
        "        text-align: right;\n",
        "    }\n",
        "\n",
        "    .dataframe thead th {\n",
        "        text-align: left;\n",
        "    }\n",
        "\n",
        "    .dataframe tbody tr th {\n",
        "        vertical-align: top;\n",
        "    }\n",
        "</style>\n",
        "<table border=\"1\" class=\"dataframe\">\n",
        "  <thead>\n",
        "    <tr style=\"text-align: right;\">\n",
        "      <th></th>\n",
        "      <th>player_name</th>\n",
        "      <th>potential</th>\n",
        "      <th>height</th>\n",
        "      <th>weight</th>\n",
        "    </tr>\n",
        "  </thead>\n",
        "  <tbody>\n",
        "    <tr>\n",
        "      <th>0</th>\n",
        "      <td>Lionel Messi</td>\n",
        "      <td>97</td>\n",
        "      <td>170.18</td>\n",
        "      <td>159</td>\n",
        "    </tr>\n",
        "    <tr>\n",
        "      <th>1</th>\n",
        "      <td>Lionel Messi</td>\n",
        "      <td>97</td>\n",
        "      <td>170.18</td>\n",
        "      <td>159</td>\n",
        "    </tr>\n",
        "    <tr>\n",
        "      <th>2</th>\n",
        "      <td>Lionel Messi</td>\n",
        "      <td>97</td>\n",
        "      <td>170.18</td>\n",
        "      <td>159</td>\n",
        "    </tr>\n",
        "    <tr>\n",
        "      <th>3</th>\n",
        "      <td>Lionel Messi</td>\n",
        "      <td>97</td>\n",
        "      <td>170.18</td>\n",
        "      <td>159</td>\n",
        "    </tr>\n",
        "    <tr>\n",
        "      <th>4</th>\n",
        "      <td>Lionel Messi</td>\n",
        "      <td>97</td>\n",
        "      <td>170.18</td>\n",
        "      <td>159</td>\n",
        "    </tr>\n",
        "    <tr>\n",
        "      <th>5</th>\n",
        "      <td>Lionel Messi</td>\n",
        "      <td>97</td>\n",
        "      <td>170.18</td>\n",
        "      <td>159</td>\n",
        "    </tr>\n",
        "    <tr>\n",
        "      <th>6</th>\n",
        "      <td>Lionel Messi</td>\n",
        "      <td>96</td>\n",
        "      <td>170.18</td>\n",
        "      <td>159</td>\n",
        "    </tr>\n",
        "    <tr>\n",
        "      <th>7</th>\n",
        "      <td>Lionel Messi</td>\n",
        "      <td>96</td>\n",
        "      <td>170.18</td>\n",
        "      <td>159</td>\n",
        "    </tr>\n",
        "    <tr>\n",
        "      <th>8</th>\n",
        "      <td>Lionel Messi</td>\n",
        "      <td>96</td>\n",
        "      <td>170.18</td>\n",
        "      <td>159</td>\n",
        "    </tr>\n",
        "    <tr>\n",
        "      <th>9</th>\n",
        "      <td>Cristiano Ronaldo</td>\n",
        "      <td>95</td>\n",
        "      <td>185.42</td>\n",
        "      <td>176</td>\n",
        "    </tr>\n",
        "  </tbody>\n",
        "</table>\n",
        "</div>"
       ],
       "metadata": {},
       "output_type": "pyout",
       "prompt_number": 17,
       "text": [
        "         player_name  potential  height  weight\n",
        "0       Lionel Messi         97  170.18     159\n",
        "1       Lionel Messi         97  170.18     159\n",
        "2       Lionel Messi         97  170.18     159\n",
        "3       Lionel Messi         97  170.18     159\n",
        "4       Lionel Messi         97  170.18     159\n",
        "5       Lionel Messi         97  170.18     159\n",
        "6       Lionel Messi         96  170.18     159\n",
        "7       Lionel Messi         96  170.18     159\n",
        "8       Lionel Messi         96  170.18     159\n",
        "9  Cristiano Ronaldo         95  185.42     176"
       ]
      }
     ],
     "prompt_number": 17
    }
   ],
   "metadata": {}
  }
 ]
}