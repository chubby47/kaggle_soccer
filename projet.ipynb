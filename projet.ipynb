{
 "metadata": {
  "kernelspec": {
   "display_name": "Python 3",
   "language": "python",
   "name": "python3"
  },
  "language_info": {
   "codemirror_mode": {
    "name": "ipython",
    "version": 3
   },
   "file_extension": ".py",
   "mimetype": "text/x-python",
   "name": "python",
   "nbconvert_exporter": "python",
   "pygments_lexer": "ipython3",
   "version": "3.5.3"
  },
  "name": "",
  "signature": "sha256:5bebf24b776561e66d9a7c92450bf44ad294bc45574653bb5a4579f1ca0bb8d7"
 },
 "nbformat": 3,
 "nbformat_minor": 0,
 "worksheets": [
  {
   "cells": [
    {
     "cell_type": "markdown",
     "metadata": {},
     "source": [
      "**Indiquer dans la bo\u00eete ci-dessous vos noms et pr\u00e9noms**"
     ]
    },
    {
     "cell_type": "markdown",
     "metadata": {},
     "source": [
      "Double-cliquer ici et remplacer par les noms et pr\u00e9noms de votre bin\u00f4me"
     ]
    },
    {
     "cell_type": "markdown",
     "metadata": {},
     "source": [
      "# 3I026 - Intelligence artificielle & Data science\n",
      "\n",
      "# Projet"
     ]
    },
    {
     "cell_type": "markdown",
     "metadata": {},
     "source": [
      "## Donn\u00e9es\n",
      "\n",
      "Vous devez travailler sur les donn\u00e9es du projet Kaggle *European Soccer Database* accessible \u00e0 l'adresse https://www.kaggle.com/hugomathien/soccer.\n",
      "\n",
      "Les donn\u00e9es en version SQLite sur la page http://www-connex.lip6.fr/~schwander/3I026/soccer.zip ou en version CSV http://www-connex.lip6.fr/~denoyer/wordpress/wp-content/uploads/2018/01/soccer.tar.gz. Pour facilter le travail dans les salles de la PPTI (et \u00e9viter de d\u00e9passer le quota de votre home), les donn\u00e9es sont accessibles aussi dans `/Vrac/3I026/soccer/`.\n",
      "\n",
      "Quel que soit le moyen pour r\u00e9cup\u00e9rer le fichier de donn\u00e9es, il est indispensable de lire en d\u00e9tail la page Kaggle pour comprendre \u00e0 quoi ces donn\u00e9es correspondent.\n",
      "\n",
      "**Rappel:** il est attendu un notebook Python par probl\u00e8me, et le probl\u00e8me \u00e9tudi\u00e9 doit \u00eatre d\u00e9crit pr\u00e9cis\u00e9ment. Votre rapport devra imp\u00e9rativement suivre le format suivant."
     ]
    },
    {
     "cell_type": "heading",
     "level": 2,
     "metadata": {
      "collapsed": true
     },
     "source": [
      "Partie 1 - Description du probl\u00e8me"
     ]
    },
    {
     "cell_type": "heading",
     "level": 2,
     "metadata": {},
     "source": [
      "Partie 2 - Mod\u00e8le"
     ]
    },
    {
     "cell_type": "heading",
     "level": 2,
     "metadata": {},
     "source": [
      "Partie 3 - Code"
     ]
    },
    {
     "cell_type": "heading",
     "level": 2,
     "metadata": {},
     "source": [
      "Partie 4 - Protocole exp\u00e9rimental"
     ]
    },
    {
     "cell_type": "heading",
     "level": 2,
     "metadata": {},
     "source": [
      "Partie 5 - R\u00e9sultats"
     ]
    },
    {
     "cell_type": "heading",
     "level": 2,
     "metadata": {},
     "source": [
      "Partie 6 - Analyse"
     ]
    }
   ],
   "metadata": {}
  }
 ]
}